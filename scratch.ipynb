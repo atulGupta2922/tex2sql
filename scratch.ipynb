{
 "cells": [
  {
   "cell_type": "code",
   "execution_count": null,
   "metadata": {},
   "outputs": [
    {
     "ename": "",
     "evalue": "",
     "output_type": "error",
     "traceback": [
      "\u001b[1;31mRunning cells with 'Python 3.12.6' requires the ipykernel package.\n",
      "\u001b[1;31mRun the following command to install 'ipykernel' into the Python environment. \n",
      "\u001b[1;31mCommand: '/opt/homebrew/bin/python3 -m pip install ipykernel -U --user --force-reinstall'"
     ]
    }
   ],
   "source": [
    "%pip install openai"
   ]
  },
  {
   "cell_type": "code",
   "execution_count": 10,
   "metadata": {
    "notebookRunGroups": {
     "groupValue": "1"
    }
   },
   "outputs": [
    {
     "name": "stdout",
     "output_type": "stream",
     "text": [
      "SyncCursorPage[Message](data=[Message(id='msg_bEKhBS42sGdPpsDLGtRf1aGz', assistant_id='asst_nVrytkzJcAMWfho5FkQpl6yL', attachments=[], completed_at=None, content=[TextContentBlock(text=Text(annotations=[], value='{\"query\":\"SELECT student_id, MAX(score) AS highest_score FROM scores GROUP BY student_id ORDER BY highest_score DESC LIMIT 1;\",\"tables\":[\"scores\"],\"explanation\":\"This SQL query retrieves the student who has the highest score. It selects the student_id and the maximum score from the scores table, groups the results by student_id, orders them in descending order by highest_score, and limits the output to the top result.\"}'), type='text')], created_at=1737694952, incomplete_at=None, incomplete_details=None, metadata={}, object='thread.message', role='assistant', run_id='run_hRj4cuQLitmqc7244n1BmtAM', status=None, thread_id='thread_CNFM159RXrG6gMn3C9w7ZoDJ'), Message(id='msg_Hdx2QTfBZ5ov8TlreXdmRNxj', assistant_id=None, attachments=[], completed_at=None, content=[TextContentBlock(text=Text(annotations=[], value='which student got the highest score'), type='text')], created_at=1737694950, incomplete_at=None, incomplete_details=None, metadata={}, object='thread.message', role='user', run_id=None, status=None, thread_id='thread_CNFM159RXrG6gMn3C9w7ZoDJ'), Message(id='msg_LdmEeLohu2n7p39qzRPdJvtG', assistant_id=None, attachments=[], completed_at=None, content=[TextContentBlock(text=Text(annotations=[], value=\"{'student_id': 1, 'first_name': 'John', 'last_name': 'Doe', 'highest_score': 130}\"), type='text')], created_at=1737694589, incomplete_at=None, incomplete_details=None, metadata={}, object='thread.message', role='assistant', run_id=None, status=None, thread_id='thread_CNFM159RXrG6gMn3C9w7ZoDJ'), Message(id='msg_eM8vCmGhRIWGBUTMbprgfDMZ', assistant_id=None, attachments=[], completed_at=None, content=[TextContentBlock(text=Text(annotations=[], value='which student got the highest score'), type='text')], created_at=1737694582, incomplete_at=None, incomplete_details=None, metadata={}, object='thread.message', role='user', run_id=None, status=None, thread_id='thread_CNFM159RXrG6gMn3C9w7ZoDJ'), Message(id='msg_6adRWu1YyNqgZlSnz5wBFWU7', assistant_id=None, attachments=[], completed_at=None, content=[TextContentBlock(text=Text(annotations=[], value=\"{'student_id': 1, 'first_name': 'John', 'last_name': 'Doe', 'highest_score': 130}\"), type='text')], created_at=1737694296, incomplete_at=None, incomplete_details=None, metadata={}, object='thread.message', role='assistant', run_id=None, status=None, thread_id='thread_CNFM159RXrG6gMn3C9w7ZoDJ'), Message(id='msg_IePBciHeETwodiZZRLMJREhW', assistant_id=None, attachments=[], completed_at=None, content=[TextContentBlock(text=Text(annotations=[], value='which student got the highest score'), type='text')], created_at=1737694288, incomplete_at=None, incomplete_details=None, metadata={}, object='thread.message', role='user', run_id=None, status=None, thread_id='thread_CNFM159RXrG6gMn3C9w7ZoDJ'), Message(id='msg_Cs8NUOP2cvIIfRfibzOAGKON', assistant_id=None, attachments=[], completed_at=None, content=[TextContentBlock(text=Text(annotations=[], value='\\n\\n'), type='text')], created_at=1737694097, incomplete_at=None, incomplete_details=None, metadata={}, object='thread.message', role='assistant', run_id=None, status=None, thread_id='thread_CNFM159RXrG6gMn3C9w7ZoDJ'), Message(id='msg_c5EkRkfnF8hauDDI34E3aUK1', assistant_id=None, attachments=[], completed_at=None, content=[TextContentBlock(text=Text(annotations=[], value='which student got the score that is average score of all students'), type='text')], created_at=1737694090, incomplete_at=None, incomplete_details=None, metadata={}, object='thread.message', role='user', run_id=None, status=None, thread_id='thread_CNFM159RXrG6gMn3C9w7ZoDJ'), Message(id='msg_vSwum4MxpmQw9cTQRQ1CpARI', assistant_id='asst_nVrytkzJcAMWfho5FkQpl6yL', attachments=[], completed_at=None, content=[TextContentBlock(text=Text(annotations=[], value='{\"query\":\"\",\"tables\":\"\",\"explanation\":\"NOT A VALID QUERY\"}'), type='text')], created_at=1737694024, incomplete_at=None, incomplete_details=None, metadata={}, object='thread.message', role='assistant', run_id='run_QjiUqYnHr0kdYOah82hIMRXe', status=None, thread_id='thread_CNFM159RXrG6gMn3C9w7ZoDJ'), Message(id='msg_V84XXgmUSJ8zxuV7Y21Zh6Om', assistant_id=None, attachments=[], completed_at=None, content=[TextContentBlock(text=Text(annotations=[], value='which student got the average score of all students'), type='text')], created_at=1737694022, incomplete_at=None, incomplete_details=None, metadata={}, object='thread.message', role='user', run_id=None, status=None, thread_id='thread_CNFM159RXrG6gMn3C9w7ZoDJ'), Message(id='msg_jLsQCIdkArKivanOG68kzU7a', assistant_id='asst_nVrytkzJcAMWfho5FkQpl6yL', attachments=[], completed_at=None, content=[TextContentBlock(text=Text(annotations=[], value='{\"query\":\"\",\"tables\":\"\",\"explanation\":\"NOT A VALID QUERY\"}'), type='text')], created_at=1737671571, incomplete_at=None, incomplete_details=None, metadata={}, object='thread.message', role='assistant', run_id='run_yt61DKrfEVvoY1gfodOPUF4X', status=None, thread_id='thread_CNFM159RXrG6gMn3C9w7ZoDJ'), Message(id='msg_UmntvZn0SHv3t2qPkCh1TukY', assistant_id=None, attachments=[], completed_at=None, content=[TextContentBlock(text=Text(annotations=[], value='Who is the highest scoring student?'), type='text')], created_at=1737671569, incomplete_at=None, incomplete_details=None, metadata={}, object='thread.message', role='user', run_id=None, status=None, thread_id='thread_CNFM159RXrG6gMn3C9w7ZoDJ')], object='list', first_id='msg_bEKhBS42sGdPpsDLGtRf1aGz', last_id='msg_UmntvZn0SHv3t2qPkCh1TukY', has_more=False)\n"
     ]
    }
   ],
   "source": [
    "from openai import OpenAI\n",
    "thread_id=\"thread_CNFM159RXrG6gMn3C9w7ZoDJ\"\n",
    "prompt =\"which student got the highest score\"\n",
    "client = OpenAI(organization='org-0WiJlDAVVOIh4oaisiP49G17'\n",
    "                ,project='proj_gWaFdgg8GJTA5FX404f8ooWO'\n",
    "                ,api_key='sk-esgate-openai-service-id-dev-bs9EG2Y0QBja7WGt30QbT3BlbkFJImJ2oS36x8cbc90agRj2')\n",
    "assistant_id = \"asst_nVrytkzJcAMWfho5FkQpl6yL\"\n",
    "assistant = client.beta.assistants.retrieve(assistant_id)\n",
    "db_json_schema=\"\"\"{\"assignments\":{\"columns\":[{\"name\":\"assignment_id\",\"type\":\"INTEGER\",\"nullable\":true,\"default\":null},{\"name\":\"course_id\",\"type\":\"INTEGER\",\"nullable\":false,\"default\":null},{\"name\":\"title\",\"type\":\"TEXT\",\"nullable\":false,\"default\":null},{\"name\":\"description\",\"type\":\"TEXT\",\"nullable\":true,\"default\":null},{\"name\":\"due_date\",\"type\":\"DATE\",\"nullable\":false,\"default\":null},{\"name\":\"max_score\",\"type\":\"INTEGER\",\"nullable\":false,\"default\":null}],\"primary_key\":[\"assignment_id\"],\"foreign_keys\":[{\"column\":\"course_id\",\"referred_table\":\"courses\",\"referred_column\":\"course_id\"}]},\"attendance\":{\"columns\":[{\"name\":\"attendance_id\",\"type\":\"INTEGER\",\"nullable\":true,\"default\":null},{\"name\":\"student_id\",\"type\":\"INTEGER\",\"nullable\":false,\"default\":null},{\"name\":\"course_id\",\"type\":\"INTEGER\",\"nullable\":false,\"default\":null},{\"name\":\"date\",\"type\":\"DATE\",\"nullable\":false,\"default\":null},{\"name\":\"status\",\"type\":\"TEXT\",\"nullable\":true,\"default\":null},{\"name\":\"remarks\",\"type\":\"TEXT\",\"nullable\":true,\"default\":null}],\"primary_key\":[\"attendance_id\"],\"foreign_keys\":[{\"column\":\"student_id\",\"referred_table\":\"students\",\"referred_column\":\"student_id\"},{\"column\":\"course_id\",\"referred_table\":\"courses\",\"referred_column\":\"course_id\"}]},\"books\":{\"columns\":[{\"name\":\"book_id\",\"type\":\"INTEGER\",\"nullable\":true,\"default\":null},{\"name\":\"title\",\"type\":\"TEXT\",\"nullable\":false,\"default\":null},{\"name\":\"library_id\",\"type\":\"INTEGER\",\"nullable\":false,\"default\":null},{\"name\":\"author\",\"type\":\"TEXT\",\"nullable\":false,\"default\":null},{\"name\":\"genre\",\"type\":\"TEXT\",\"nullable\":true,\"default\":null},{\"name\":\"published_year\",\"type\":\"INTEGER\",\"nullable\":true,\"default\":null},{\"name\":\"isbn\",\"type\":\"TEXT\",\"nullable\":false,\"default\":null}],\"primary_key\":[\"book_id\"],\"foreign_keys\":[{\"column\":\"library_id\",\"referred_table\":\"libraries\",\"referred_column\":\"library_id\"}]},\"borrow_records\":{\"columns\":[{\"name\":\"borrow_id\",\"type\":\"INTEGER\",\"nullable\":true,\"default\":null},{\"name\":\"student_id\",\"type\":\"INTEGER\",\"nullable\":false,\"default\":null},{\"name\":\"library_id\",\"type\":\"INTEGER\",\"nullable\":false,\"default\":null},{\"name\":\"book_id\",\"type\":\"INTEGER\",\"nullable\":false,\"default\":null},{\"name\":\"borrow_date\",\"type\":\"DATE\",\"nullable\":false,\"default\":null},{\"name\":\"return_date\",\"type\":\"DATE\",\"nullable\":true,\"default\":null}],\"primary_key\":[\"borrow_id\"],\"foreign_keys\":[{\"column\":\"student_id\",\"referred_table\":\"students\",\"referred_column\":\"student_id\"},{\"column\":\"library_id\",\"referred_table\":\"libraries\",\"referred_column\":\"library_id\"}]}}\"\"\"\n",
    "    \n",
    "    \n",
    "    #getting thread for user\n",
    "\"\"\"\n",
    "        if thread_id is None:\n",
    "            # Create a new thread for the user\n",
    "            thread = self.client.beta.threads.create()\n",
    "            # Save the thread with user association\n",
    "            print(\"THREADDDDD: \",thread.id)\n",
    "            self.app_db.save_thread_for_user(user[0],str(thread.id), str(self.assistant.id) )\n",
    "            thread_id=thread.id\n",
    "        db_schema_json=self.app_db.get_user_db(user[8])\n",
    "\"\"\"\n",
    "message = client.beta.threads.messages.create(\n",
    "                    thread_id=thread_id,\n",
    "                    role=\"user\",\n",
    "                    content=prompt\n",
    "                    )\n",
    "run = client.beta.threads.runs.create_and_poll(\n",
    "                    thread_id=thread_id,\n",
    "                    assistant_id=\"asst_nVrytkzJcAMWfho5FkQpl6yL\",\n",
    "                    instructions=f\"\"\"\n",
    "                    You are an Expert Database administrator with experience in writing complex SQL queries. You are given a database schema {db_json_schema} in JSON format and a query submitted by the user in natural language. \n",
    "\n",
    "                    On the basis of the provided DB_schema (input1) and query in natural language (input2), you need to provide \n",
    "                    (A) syntactically correct SQL query that can be run to retrieve the expected result,\n",
    "                    (B) give  the natural language explanation of the SQL query generated and \n",
    "                    (C) list of tables used in the SQL query that you provided.\n",
    "                    YOU DO NOT GIVE ANY OTHER WORDS APART FROM A, B AND C MENTIONED ABOVE\n",
    "\n",
    "                    If the user asks anything else apart from a query in Natural Language you should reply the exact text 'NOT A VALID QUERY'.\n",
    "\n",
    "                    You will always return a json with the keys \"query\", \"tables\" and \"explanation\"\n",
    "                    # Steps \n",
    "\n",
    "                    1. Parse the DB schema and permissions from their respective inputs.\n",
    "                    2. Analyse the natural language user query to determine if it involves DB tables.\n",
    "                    3. If the user query does not involve DB tables, reply the exact text \"NOT A VALID QUERY\"\n",
    "                    4. If the user asks for a correct query,  Formulate the SQL query.\n",
    "                    5. List the tables used in the formulated query.\n",
    "                    6. provide the query and explanation in a json\n",
    "\n",
    "\n",
    "                    # Output Format\n",
    "                    - provide a json with 3 keys: query, tables and explanation\n",
    "                    - Provide a syntactically correct SQL query in the query key\n",
    "                    - Provide the list of tables occurring in SQL query in the tables key\n",
    "                    - Output the explanation of the query in the explanation key\n",
    "                    - in case of \"NOT A VALID QUERY\" output query key as '' and explanation as \"NOT A VALID QUERY\"\n",
    "                    \"\"\"\n",
    "                    )\n",
    "\n",
    "if run.status == 'completed':\n",
    "    # Retrieve the latest message only\n",
    "    response_data = client.beta.threads.messages.list(thread_id=thread_id)\n",
    "    \n",
    "print(response_data)"
   ]
  },
  {
   "cell_type": "code",
   "execution_count": 11,
   "metadata": {},
   "outputs": [
    {
     "name": "stdout",
     "output_type": "stream",
     "text": [
      "SELECT student_id, MAX(score) AS highest_score FROM scores GROUP BY student_id ORDER BY highest_score DESC LIMIT 1;\n",
      "This SQL query retrieves the student who has the highest score. It selects the student_id and the maximum score from the scores table, groups the results by student_id, orders them in descending order by highest_score, and limits the output to the top result.\n"
     ]
    },
    {
     "data": {
      "text/plain": [
       "'\\n    else:\\n        print(\"No content in the latest message.\")\\nelse:\\n    print(\"No messages in the thread.\")\\n\\nprint(\"RESPONSE:\", json.dumps(msg))\\n'"
      ]
     },
     "execution_count": 11,
     "metadata": {},
     "output_type": "execute_result"
    }
   ],
   "source": [
    "import json\n",
    "# Assuming the response_data is a list of messages, get the last one\n",
    "\n",
    "response_data=list(response_data)\n",
    "latest_message = response_data[0]  # Get the last message in the thread\n",
    "if latest_message.content and isinstance(latest_message.content, list):\n",
    "    #msg = ''\n",
    "    for content_block in latest_message.content:\n",
    "        # Each content block has a 'text' attribute which contains the 'value'\n",
    "        if content_block.text and content_block.text.value:\n",
    "            # Extract and append the 'value' which is the actual content\n",
    "            #msg += content_block.text.value\n",
    "            #print(content_block.text.value)\n",
    "                response=json.loads(content_block.text.value)\n",
    "print(response['query'])\n",
    "#print(type(response))\n",
    "print(response['explanation'])\n",
    "'''\n",
    "    else:\n",
    "        print(\"No content in the latest message.\")\n",
    "else:\n",
    "    print(\"No messages in the thread.\")\n",
    "\n",
    "print(\"RESPONSE:\", json.dumps(msg))\n",
    "'''"
   ]
  },
  {
   "cell_type": "code",
   "execution_count": 9,
   "metadata": {},
   "outputs": [
    {
     "name": "stdout",
     "output_type": "stream",
     "text": [
      "UPDATE\n",
      "Permissions: {'allowed': False, 'msg': 'Only SELECT is allowed'}\n",
      "Permission denied: Only SELECT is allowed\n"
     ]
    }
   ],
   "source": [
    "import sqlparse\n",
    "from sqlparse.sql import Identifier, IdentifierList, Parenthesis\n",
    "from sqlparse.tokens import Keyword, DML\n",
    "\n",
    "\n",
    "def check_permissions(query,tables):\n",
    "        parsed = sqlparse.parse(query)\n",
    "        statement = parsed[0]  # Assuming a single statement\n",
    "        # Traverse tokens\n",
    "        query_type=statement.tokens[0].ttype\n",
    "        dml_query_type=statement.get_type().upper() \n",
    "        allowed=False\n",
    "        print(dml_query_type)\n",
    "        if dml_query_type=='SELECT':\n",
    "            policy = {'read': ['students', 'courses', 'enrollments', 'borrow_records'], 'write': []}\n",
    "            #query_dtls=self.extract_query_details(query)\n",
    "            print(\"POLICY: \",policy)\n",
    "            print(\"QUERY_DTLS: \",tables)\n",
    "            print(\"QUERY TYPE:\",query_type)\n",
    "            if query_type is DML:\n",
    "                if tables!=[] and all(item in policy['read'] for item in tables):\n",
    "                    print(\"here\")\n",
    "                    allowed=True\n",
    "                    msg=query\n",
    "                else:\n",
    "                    msg=\"Access denied to this data\"\n",
    "            else:\n",
    "                msg=\"Only DML is allowed\"\n",
    "        else:\n",
    "            msg=\"Only SELECT is allowed\"\n",
    "        return {\"allowed\":allowed,\"msg\":msg}\n",
    "# Test the code with provided query\n",
    "test_response = {\n",
    "  \"query\": \"UPDATE  students set name='philip'\",\n",
    "  \"tables\": [\n",
    "    \"students\"\n",
    "  ],\n",
    "  \"explanation\": \"This query inserts a new entry into the students table with the name 'philip'. Other columns will be auto-generated based on the table's default values.\"\n",
    "}\n",
    "\n",
    "sql_query = response.get('query', None)\n",
    "sql_tables=response.get('tables',None)\n",
    "exp=response.get('explanation',None)\n",
    "cleaned_query = \" \".join(sql_query.split())  # Clean up the query\n",
    "policy = {'read': ['students', 'courses', 'enrollments', 'borrow_records'], 'write': []}\n",
    "\n",
    "# Run permission check\n",
    "if sql_query != '':\n",
    "    permissions = check_permissions(sql_query,sql_tables)\n",
    "    print(\"Permissions:\", permissions)\n",
    "    if permissions['allowed']:\n",
    "        print('Allowed to run query')\n",
    "    else:\n",
    "        print(\"Permission denied:\", permissions['msg'])\n",
    "else:\n",
    "    print(\"Query is empty.\")"
   ]
  },
  {
   "cell_type": "code",
   "execution_count": 22,
   "metadata": {},
   "outputs": [
    {
     "name": "stdout",
     "output_type": "stream",
     "text": [
      "Last Bot Text Extracted: {\"query\":\"SELECT student_id, MAX(score) AS highest_score FROM scores GROUP BY student_id ORDER BY highest_score DESC LIMIT 1;\",\"tables\":[\"scores\"],\"explanation\":\"This SQL query retrieves the student who has the highest score. It selects the student_id and the maximum score from the scores table, groups the results by student_id, orders them in descending order by highest_score, and limits the output to the top result.\"}\n",
      "Updated Content: {\n",
      "    \"query\": \"SELECT student_id, MAX(score) AS highest_score FROM scores GROUP BY student_id ORDER BY highest_score DESC LIMIT 1;\",\n",
      "    \"tables\": [\n",
      "        \"scores\"\n",
      "    ],\n",
      "    \"explanation\": \"This SQL query retrieves the student who has the highest score. It selects the student_id and the maximum score from the scores table, groups the results by student_id, orders them in descending order by highest_score, and limits the output to the top result.\",\n",
      "    \"response\": \"my added text\"\n",
      "}\n"
     ]
    },
    {
     "data": {
      "text/plain": [
       "'\\n# Append new response to the existing message\\nupdated_content = last_bot_text + response\\nprint(updated_content)\\n# Delete the old message (if API supports message deletion)\\nself.client.beta.threads.messages.delete(thread_id=thread_id, message_id=last_bot_message.id)\\n\\n# Add updated message with appended text\\nself.client.beta.threads.messages.create(\\n    thread_id=thread_id,\\n    role=\"assistant\",\\n    content=[{\"type\": \"text\", \"text\": updated_content}]\\n)\\n'"
      ]
     },
     "execution_count": 22,
     "metadata": {},
     "output_type": "execute_result"
    }
   ],
   "source": [
    "messages = client.beta.threads.messages.list(thread_id=thread_id)\n",
    "# Find the last assistant message\n",
    "last_bot_message = next((msg for msg in messages.data if msg.role == \"assistant\"), None)\n",
    "#print(\"last_bot_message\",last_bot_message)\n",
    "\n",
    "if last_bot_message:\n",
    "    last_bot_text = \"\"\n",
    "    if isinstance(last_bot_message.content, list):\n",
    "                for item in last_bot_message.content:\n",
    "                    if hasattr(item, 'text') and hasattr(item.text, 'value'):\n",
    "                        last_bot_text = item.text.value  # Extract JSON string\n",
    "                        break  # Assuming we only need the first text block\n",
    "\n",
    "    print(\"Last Bot Text Extracted:\", last_bot_text)\n",
    "bot_message_json = json.loads(last_bot_text)  # Convert to dict\n",
    "bot_message_json['response'] = 'my added text'  # Append new response\n",
    "updated_content = json.dumps(bot_message_json, indent=4)  # Convert back to JSON string\n",
    "\n",
    "print(\"Updated Content:\", updated_content)\n",
    "\n",
    "'''\n",
    "# Append new response to the existing message\n",
    "updated_content = last_bot_text + response\n",
    "print(updated_content)\n",
    "# Delete the old message (if API supports message deletion)\n",
    "self.client.beta.threads.messages.delete(thread_id=thread_id, message_id=last_bot_message.id)\n",
    "\n",
    "# Add updated message with appended text\n",
    "self.client.beta.threads.messages.create(\n",
    "    thread_id=thread_id,\n",
    "    role=\"assistant\",\n",
    "    content=[{\"type\": \"text\", \"text\": updated_content}]\n",
    ")\n",
    "'''"
   ]
  },
  {
   "cell_type": "code",
   "execution_count": null,
   "metadata": {},
   "outputs": [],
   "source": []
  }
 ],
 "metadata": {
  "kernelspec": {
   "display_name": "base",
   "language": "python",
   "name": "python3"
  },
  "language_info": {
   "codemirror_mode": {
    "name": "ipython",
    "version": 3
   },
   "file_extension": ".py",
   "mimetype": "text/x-python",
   "name": "python",
   "nbconvert_exporter": "python",
   "pygments_lexer": "ipython3",
   "version": "3.10.9"
  }
 },
 "nbformat": 4,
 "nbformat_minor": 2
}
