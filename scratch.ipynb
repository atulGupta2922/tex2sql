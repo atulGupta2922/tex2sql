{
 "cells": [
  {
   "cell_type": "code",
   "execution_count": 2,
   "metadata": {},
   "outputs": [
    {
     "name": "stdout",
     "output_type": "stream",
     "text": [
      "Requirement already satisfied: sqlalchemy in /opt/homebrew/lib/python3.10/site-packages (2.0.36)\n",
      "Requirement already satisfied: typing-extensions>=4.6.0 in /opt/homebrew/lib/python3.10/site-packages (from sqlalchemy) (4.12.2)\n",
      "\n",
      "\u001b[1m[\u001b[0m\u001b[34;49mnotice\u001b[0m\u001b[1;39;49m]\u001b[0m\u001b[39;49m A new release of pip is available: \u001b[0m\u001b[31;49m24.2\u001b[0m\u001b[39;49m -> \u001b[0m\u001b[32;49m24.3.1\u001b[0m\n",
      "\u001b[1m[\u001b[0m\u001b[34;49mnotice\u001b[0m\u001b[1;39;49m]\u001b[0m\u001b[39;49m To update, run: \u001b[0m\u001b[32;49mpython3.10 -m pip install --upgrade pip\u001b[0m\n"
     ]
    }
   ],
   "source": [
    "!pip install sqlalchemy"
   ]
  },
  {
   "cell_type": "code",
   "execution_count": 4,
   "metadata": {},
   "outputs": [
    {
     "ename": "ModuleNotFoundError",
     "evalue": "No module named 'sqlalchemy'",
     "output_type": "error",
     "traceback": [
      "\u001b[0;31m---------------------------------------------------------------------------\u001b[0m",
      "\u001b[0;31mModuleNotFoundError\u001b[0m                       Traceback (most recent call last)",
      "Cell \u001b[0;32mIn[4], line 1\u001b[0m\n\u001b[0;32m----> 1\u001b[0m \u001b[38;5;28;01mfrom\u001b[39;00m \u001b[38;5;21;01msqlalchemy\u001b[39;00m \u001b[38;5;28;01mimport\u001b[39;00m create_engine, inspect\n\u001b[1;32m      2\u001b[0m \u001b[38;5;28;01mimport\u001b[39;00m \u001b[38;5;21;01mjson\u001b[39;00m\n\u001b[1;32m      4\u001b[0m \u001b[38;5;28;01mdef\u001b[39;00m \u001b[38;5;21mget_db_schema_as_json\u001b[39m(connection_string: \u001b[38;5;28mstr\u001b[39m):\n\u001b[1;32m      5\u001b[0m     \u001b[38;5;66;03m# Connect to the database\u001b[39;00m\n",
      "\u001b[0;31mModuleNotFoundError\u001b[0m: No module named 'sqlalchemy'"
     ]
    }
   ],
   "source": [
    "from sqlalchemy import create_engine, inspect\n",
    "import json\n",
    "\n",
    "def get_db_schema_as_json(connection_string: str):\n",
    "    # Connect to the database\n",
    "    engine = create_engine(connection_string)\n",
    "    inspector = inspect(engine)\n",
    "    \n",
    "    schema = {}\n",
    "    for table_name in inspector.get_table_names():\n",
    "        # Fetch columns\n",
    "        columns = inspector.get_columns(table_name)\n",
    "        schema[table_name] = {\n",
    "            \"columns\": [\n",
    "                {\n",
    "                    \"name\": column[\"name\"],\n",
    "                    \"type\": str(column[\"type\"]),\n",
    "                    \"nullable\": column[\"nullable\"],\n",
    "                    \"default\": str(column[\"default\"]) if column[\"default\"] else None,\n",
    "                }\n",
    "                for column in columns\n",
    "            ],\n",
    "            \"primary_key\": [key[\"name\"] for key in inspector.get_pk_constraint(table_name).get(\"constrained_columns\", [])],\n",
    "            \"foreign_keys\": [\n",
    "                {\n",
    "                    \"column\": fk[\"constrained_columns\"][0],\n",
    "                    \"referred_table\": fk[\"referred_table\"],\n",
    "                    \"referred_column\": fk[\"referred_columns\"][0],\n",
    "                }\n",
    "                for fk in inspector.get_foreign_keys(table_name)\n",
    "            ],\n",
    "        }\n",
    "    \n",
    "    # Convert to JSON\n",
    "    return json.dumps(schema, indent=4)"
   ]
  },
  {
   "cell_type": "code",
   "execution_count": null,
   "metadata": {},
   "outputs": [],
   "source": []
  }
 ],
 "metadata": {
  "kernelspec": {
   "display_name": "Python 3",
   "language": "python",
   "name": "python3"
  },
  "language_info": {
   "codemirror_mode": {
    "name": "ipython",
    "version": 3
   },
   "file_extension": ".py",
   "mimetype": "text/x-python",
   "name": "python",
   "nbconvert_exporter": "python",
   "pygments_lexer": "ipython3",
   "version": "3.11.10"
  }
 },
 "nbformat": 4,
 "nbformat_minor": 2
}
